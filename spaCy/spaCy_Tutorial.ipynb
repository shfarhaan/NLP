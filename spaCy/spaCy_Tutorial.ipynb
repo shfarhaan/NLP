{
  "nbformat": 4,
  "nbformat_minor": 0,
  "metadata": {
    "colab": {
      "provenance": [],
      "authorship_tag": "ABX9TyP9wUrgG4EnAlkSzI/iCCmX",
      "include_colab_link": true
    },
    "kernelspec": {
      "name": "python3",
      "display_name": "Python 3"
    },
    "language_info": {
      "name": "python"
    }
  },
  "cells": [
    {
      "cell_type": "markdown",
      "metadata": {
        "id": "view-in-github",
        "colab_type": "text"
      },
      "source": [
        "<a href=\"https://colab.research.google.com/github/shfarhaan/NLP/blob/main/spaCy/spaCy_Tutorial.ipynb\" target=\"_parent\"><img src=\"https://colab.research.google.com/assets/colab-badge.svg\" alt=\"Open In Colab\"/></a>"
      ]
    },
    {
      "cell_type": "markdown",
      "source": [
        "# **Chapter 1:**\n",
        "\n",
        "Finding words, phrases, names and concepts\n",
        "\n",
        "This chapter will introduce you to the basics of text processing with spaCy. You'll learn about the data structures, how to work with trained pipelines, and how to use them to predict linguistic features in your text.\n"
      ],
      "metadata": {
        "id": "pwgxXeImwUXI"
      }
    },
    {
      "cell_type": "code",
      "source": [
        "!pip install spacy"
      ],
      "metadata": {
        "id": "XtQbkS5qvkVg",
        "colab": {
          "base_uri": "https://localhost:8080/"
        },
        "outputId": "0f993706-2b3e-4232-9c86-8629e5177631"
      },
      "execution_count": 1,
      "outputs": [
        {
          "output_type": "stream",
          "name": "stdout",
          "text": [
            "Requirement already satisfied: spacy in /usr/local/lib/python3.10/dist-packages (3.6.1)\n",
            "Requirement already satisfied: spacy-legacy<3.1.0,>=3.0.11 in /usr/local/lib/python3.10/dist-packages (from spacy) (3.0.12)\n",
            "Requirement already satisfied: spacy-loggers<2.0.0,>=1.0.0 in /usr/local/lib/python3.10/dist-packages (from spacy) (1.0.5)\n",
            "Requirement already satisfied: murmurhash<1.1.0,>=0.28.0 in /usr/local/lib/python3.10/dist-packages (from spacy) (1.0.10)\n",
            "Requirement already satisfied: cymem<2.1.0,>=2.0.2 in /usr/local/lib/python3.10/dist-packages (from spacy) (2.0.8)\n",
            "Requirement already satisfied: preshed<3.1.0,>=3.0.2 in /usr/local/lib/python3.10/dist-packages (from spacy) (3.0.9)\n",
            "Requirement already satisfied: thinc<8.2.0,>=8.1.8 in /usr/local/lib/python3.10/dist-packages (from spacy) (8.1.12)\n",
            "Requirement already satisfied: wasabi<1.2.0,>=0.9.1 in /usr/local/lib/python3.10/dist-packages (from spacy) (1.1.2)\n",
            "Requirement already satisfied: srsly<3.0.0,>=2.4.3 in /usr/local/lib/python3.10/dist-packages (from spacy) (2.4.8)\n",
            "Requirement already satisfied: catalogue<2.1.0,>=2.0.6 in /usr/local/lib/python3.10/dist-packages (from spacy) (2.0.10)\n",
            "Requirement already satisfied: typer<0.10.0,>=0.3.0 in /usr/local/lib/python3.10/dist-packages (from spacy) (0.9.0)\n",
            "Requirement already satisfied: pathy>=0.10.0 in /usr/local/lib/python3.10/dist-packages (from spacy) (0.10.3)\n",
            "Requirement already satisfied: smart-open<7.0.0,>=5.2.1 in /usr/local/lib/python3.10/dist-packages (from spacy) (6.4.0)\n",
            "Requirement already satisfied: tqdm<5.0.0,>=4.38.0 in /usr/local/lib/python3.10/dist-packages (from spacy) (4.66.1)\n",
            "Requirement already satisfied: numpy>=1.15.0 in /usr/local/lib/python3.10/dist-packages (from spacy) (1.23.5)\n",
            "Requirement already satisfied: requests<3.0.0,>=2.13.0 in /usr/local/lib/python3.10/dist-packages (from spacy) (2.31.0)\n",
            "Requirement already satisfied: pydantic!=1.8,!=1.8.1,<3.0.0,>=1.7.4 in /usr/local/lib/python3.10/dist-packages (from spacy) (1.10.13)\n",
            "Requirement already satisfied: jinja2 in /usr/local/lib/python3.10/dist-packages (from spacy) (3.1.2)\n",
            "Requirement already satisfied: setuptools in /usr/local/lib/python3.10/dist-packages (from spacy) (67.7.2)\n",
            "Requirement already satisfied: packaging>=20.0 in /usr/local/lib/python3.10/dist-packages (from spacy) (23.2)\n",
            "Requirement already satisfied: langcodes<4.0.0,>=3.2.0 in /usr/local/lib/python3.10/dist-packages (from spacy) (3.3.0)\n",
            "Requirement already satisfied: typing-extensions>=4.2.0 in /usr/local/lib/python3.10/dist-packages (from pydantic!=1.8,!=1.8.1,<3.0.0,>=1.7.4->spacy) (4.5.0)\n",
            "Requirement already satisfied: charset-normalizer<4,>=2 in /usr/local/lib/python3.10/dist-packages (from requests<3.0.0,>=2.13.0->spacy) (3.3.1)\n",
            "Requirement already satisfied: idna<4,>=2.5 in /usr/local/lib/python3.10/dist-packages (from requests<3.0.0,>=2.13.0->spacy) (3.4)\n",
            "Requirement already satisfied: urllib3<3,>=1.21.1 in /usr/local/lib/python3.10/dist-packages (from requests<3.0.0,>=2.13.0->spacy) (2.0.7)\n",
            "Requirement already satisfied: certifi>=2017.4.17 in /usr/local/lib/python3.10/dist-packages (from requests<3.0.0,>=2.13.0->spacy) (2023.7.22)\n",
            "Requirement already satisfied: blis<0.8.0,>=0.7.8 in /usr/local/lib/python3.10/dist-packages (from thinc<8.2.0,>=8.1.8->spacy) (0.7.11)\n",
            "Requirement already satisfied: confection<1.0.0,>=0.0.1 in /usr/local/lib/python3.10/dist-packages (from thinc<8.2.0,>=8.1.8->spacy) (0.1.3)\n",
            "Requirement already satisfied: click<9.0.0,>=7.1.1 in /usr/local/lib/python3.10/dist-packages (from typer<0.10.0,>=0.3.0->spacy) (8.1.7)\n",
            "Requirement already satisfied: MarkupSafe>=2.0 in /usr/local/lib/python3.10/dist-packages (from jinja2->spacy) (2.1.3)\n"
          ]
        }
      ]
    },
    {
      "cell_type": "markdown",
      "source": [
        "At the center of spaCy is the object containing the processing pipeline. We usually call this variable \"nlp\".\n",
        "\n",
        "For example, to create an English nlp object, you can import spacy and use the spacy.blank method to create a blank English pipeline. You can use the nlp object like a function to analyze text. It contains all the different components in the pipeline.\n",
        "\n",
        "It also includes language-specific rules used for tokenizing the text into words and punctuation. spaCy supports a variety of languages."
      ],
      "metadata": {
        "id": "7XY3-ETWyTyH"
      }
    },
    {
      "cell_type": "code",
      "source": [
        "# Import spaCy\n",
        "import spacy\n",
        "\n",
        "# Create a blank English nlp object\n",
        "nlp = spacy.blank(\"en\")"
      ],
      "metadata": {
        "id": "EbuHEchhvjT6"
      },
      "execution_count": 2,
      "outputs": []
    },
    {
      "cell_type": "markdown",
      "source": [
        "## **The Doc object**\n",
        "\n",
        "When you process a text with the `nlp` object, spaCy creates a Doc object – short for \"document\". The `Doc` lets you access information about the text in a structured way, and no information is lost.\n",
        "\n",
        "The Doc behaves like a normal Python sequence by the way and lets you iterate over its tokens, or get a token by its index. But more on that later!"
      ],
      "metadata": {
        "id": "0VFDyfbzv37Y"
      }
    },
    {
      "cell_type": "code",
      "execution_count": 3,
      "metadata": {
        "colab": {
          "base_uri": "https://localhost:8080/"
        },
        "id": "C6gko1SHvOrR",
        "outputId": "77b8ead2-7891-4629-b738-57e4f16f0dbb"
      },
      "outputs": [
        {
          "output_type": "stream",
          "name": "stdout",
          "text": [
            "Hello\n",
            "world\n",
            "!\n"
          ]
        }
      ],
      "source": [
        "# Created by processing a string of text with the nlp object\n",
        "doc = nlp(\"Hello world!\")\n",
        "\n",
        "# Iterate over tokens in a Doc\n",
        "for token in doc:\n",
        "    print(token.text)"
      ]
    },
    {
      "cell_type": "markdown",
      "source": [
        "## **The Token object**\n",
        "\n",
        "![Illustration of a Doc object containing three tokens](https://course.spacy.io/doc.png)\n",
        "\n",
        "`Token` objects represent the tokens in a document – for example, a word or a punctuation character.\n",
        "\n",
        "To get a token at a specific position, you can index into the doc.\n",
        "\n",
        "Token objects also provide various attributes that let you access more information about the tokens. For example, the .text attribute returns the verbatim token text.\n"
      ],
      "metadata": {
        "id": "kdiSPN3zzUur"
      }
    },
    {
      "cell_type": "code",
      "source": [
        "doc = nlp(\"Hello world!\")\n",
        "\n",
        "# Index into the Doc to get a single Token\n",
        "token = doc[1]\n",
        "\n",
        "# Get the token text via the .text attribute\n",
        "print(token.text)"
      ],
      "metadata": {
        "colab": {
          "base_uri": "https://localhost:8080/"
        },
        "id": "nb8tP2o3vw64",
        "outputId": "bed460a8-e25f-4d20-edfd-29dbec2993f8"
      },
      "execution_count": null,
      "outputs": [
        {
          "output_type": "stream",
          "name": "stdout",
          "text": [
            "world\n"
          ]
        }
      ]
    },
    {
      "cell_type": "markdown",
      "source": [
        "## **The Span object**\n",
        "\n",
        "![Illustration of a Doc object containing three tokens and two of them wrapped in a Span](https://course.spacy.io/doc_span.png)\n",
        "\n",
        "A `Span` object is a slice of the document consisting of one or more tokens. It's only a view of the Doc and doesn't contain any data itself.\n",
        "\n",
        "To create a span, you can use Python's slice notation. For example, 1:3 will create a slice starting from the token at position 1, up to – but not including! – the token at position 3."
      ],
      "metadata": {
        "id": "ctS1dkhx08Qx"
      }
    },
    {
      "cell_type": "code",
      "source": [
        "doc = nlp(\"Hello world!\")\n",
        "\n",
        "# A slice from the Doc is a Span object\n",
        "span = doc[1:3]\n",
        "\n",
        "# Get the span text via the .text attribute\n",
        "print(span.text)"
      ],
      "metadata": {
        "colab": {
          "base_uri": "https://localhost:8080/"
        },
        "id": "glBm0Ph303fn",
        "outputId": "a0250c8b-9619-4457-d7ac-366d62ab6024"
      },
      "execution_count": 4,
      "outputs": [
        {
          "output_type": "stream",
          "name": "stdout",
          "text": [
            "world!\n"
          ]
        }
      ]
    },
    {
      "cell_type": "markdown",
      "source": [
        "## **Lexical Attributes**\n",
        "\n",
        "Here you can see some of the available token attributes:\n",
        "\n",
        "`i` is the index of the token within the parent document.\n",
        "\n",
        "`text` returns the token text.\n",
        "\n",
        "`is_alpha`, `is_punct` and `like_num` return boolean values indicating whether the token consists of alphabetic characters, whether it's punctuation or whether it resembles a number. For example, a token \"10\" – one, zero – or the word \"ten\" – T, E, N.\n",
        "\n",
        "These attributes are also called lexical attributes: they refer to the entry in the vocabulary and don't depend on the token's context."
      ],
      "metadata": {
        "id": "GyPKdaoC1g6x"
      }
    },
    {
      "cell_type": "code",
      "source": [
        "help(token)"
      ],
      "metadata": {
        "colab": {
          "base_uri": "https://localhost:8080/"
        },
        "id": "l46Ig0PYbHjP",
        "outputId": "471e7bd3-2aa5-4c2e-824c-503299bd4f4f"
      },
      "execution_count": 5,
      "outputs": [
        {
          "output_type": "stream",
          "name": "stdout",
          "text": [
            "Help on Token object:\n",
            "\n",
            "class Token(builtins.object)\n",
            " |  An individual token – i.e. a word, punctuation symbol, whitespace,\n",
            " |  etc.\n",
            " |  \n",
            " |  DOCS: https://spacy.io/api/token\n",
            " |  \n",
            " |  Methods defined here:\n",
            " |  \n",
            " |  __bytes__(...)\n",
            " |      Token.__bytes__(self)\n",
            " |  \n",
            " |  __eq__(self, value, /)\n",
            " |      Return self==value.\n",
            " |  \n",
            " |  __ge__(self, value, /)\n",
            " |      Return self>=value.\n",
            " |  \n",
            " |  __gt__(self, value, /)\n",
            " |      Return self>value.\n",
            " |  \n",
            " |  __hash__(self, /)\n",
            " |      Return hash(self).\n",
            " |  \n",
            " |  __le__(self, value, /)\n",
            " |      Return self<=value.\n",
            " |  \n",
            " |  __len__(...)\n",
            " |      The number of unicode characters in the token, i.e. `token.text`.\n",
            " |      \n",
            " |      RETURNS (int): The number of unicode characters in the token.\n",
            " |      \n",
            " |      DOCS: https://spacy.io/api/token#len\n",
            " |  \n",
            " |  __lt__(self, value, /)\n",
            " |      Return self<value.\n",
            " |  \n",
            " |  __ne__(self, value, /)\n",
            " |      Return self!=value.\n",
            " |  \n",
            " |  __reduce__(...)\n",
            " |      Token.__reduce__(self)\n",
            " |  \n",
            " |  __repr__(self, /)\n",
            " |      Return repr(self).\n",
            " |  \n",
            " |  __str__(self, /)\n",
            " |      Return str(self).\n",
            " |  \n",
            " |  __unicode__(...)\n",
            " |      Token.__unicode__(self)\n",
            " |  \n",
            " |  check_flag(...)\n",
            " |      Token.check_flag(self, attr_id_t flag_id) -> bool\n",
            " |      Check the value of a boolean flag.\n",
            " |      \n",
            " |              flag_id (int): The ID of the flag attribute.\n",
            " |              RETURNS (bool): Whether the flag is set.\n",
            " |      \n",
            " |              DOCS: https://spacy.io/api/token#check_flag\n",
            " |  \n",
            " |  has_dep(...)\n",
            " |      Token.has_dep(self)\n",
            " |      Check whether the token has annotated dep information.\n",
            " |              Returns False when the dep label is unset/missing.\n",
            " |      \n",
            " |              RETURNS (bool): Whether the dep label is valid or not.\n",
            " |  \n",
            " |  has_head(...)\n",
            " |      Token.has_head(self)\n",
            " |      Check whether the token has annotated head information.\n",
            " |              Return False when the head annotation is unset/missing.\n",
            " |      \n",
            " |              RETURNS (bool): Whether the head annotation is valid or not.\n",
            " |  \n",
            " |  has_morph(...)\n",
            " |      Token.has_morph(self)\n",
            " |      Check whether the token has annotated morph information.\n",
            " |              Return False when the morph annotation is unset/missing.\n",
            " |      \n",
            " |              RETURNS (bool): Whether the morph annotation is set.\n",
            " |  \n",
            " |  is_ancestor(...)\n",
            " |      Token.is_ancestor(self, descendant)\n",
            " |      Check whether this token is a parent, grandparent, etc. of another\n",
            " |              in the dependency tree.\n",
            " |      \n",
            " |              descendant (Token): Another token.\n",
            " |              RETURNS (bool): Whether this token is the ancestor of the descendant.\n",
            " |      \n",
            " |              DOCS: https://spacy.io/api/token#is_ancestor\n",
            " |  \n",
            " |  nbor(...)\n",
            " |      Token.nbor(self, int i=1)\n",
            " |      Get a neighboring token.\n",
            " |      \n",
            " |              i (int): The relative position of the token to get. Defaults to 1.\n",
            " |              RETURNS (Token): The token at position `self.doc[self.i+i]`.\n",
            " |      \n",
            " |              DOCS: https://spacy.io/api/token#nbor\n",
            " |  \n",
            " |  set_morph(...)\n",
            " |      Token.set_morph(self, features)\n",
            " |  \n",
            " |  similarity(...)\n",
            " |      Token.similarity(self, other)\n",
            " |      Make a semantic similarity estimate. The default estimate is cosine\n",
            " |              similarity using an average of word vectors.\n",
            " |      \n",
            " |              other (object): The object to compare with. By default, accepts `Doc`,\n",
            " |                  `Span`, `Token` and `Lexeme` objects.\n",
            " |              RETURNS (float): A scalar similarity score. Higher is more similar.\n",
            " |      \n",
            " |              DOCS: https://spacy.io/api/token#similarity\n",
            " |  \n",
            " |  ----------------------------------------------------------------------\n",
            " |  Class methods defined here:\n",
            " |  \n",
            " |  get_extension(...) from builtins.type\n",
            " |      Token.get_extension(type cls, name)\n",
            " |      Look up a previously registered extension by name.\n",
            " |      \n",
            " |              name (str): Name of the extension.\n",
            " |              RETURNS (tuple): A `(default, method, getter, setter)` tuple.\n",
            " |      \n",
            " |              DOCS: https://spacy.io/api/token#get_extension\n",
            " |  \n",
            " |  has_extension(...) from builtins.type\n",
            " |      Token.has_extension(type cls, name)\n",
            " |      Check whether an extension has been registered.\n",
            " |      \n",
            " |              name (str): Name of the extension.\n",
            " |              RETURNS (bool): Whether the extension has been registered.\n",
            " |      \n",
            " |              DOCS: https://spacy.io/api/token#has_extension\n",
            " |  \n",
            " |  iob_strings(...) from builtins.type\n",
            " |      Token.iob_strings(type cls)\n",
            " |  \n",
            " |  remove_extension(...) from builtins.type\n",
            " |      Token.remove_extension(type cls, name)\n",
            " |      Remove a previously registered extension.\n",
            " |      \n",
            " |              name (str): Name of the extension.\n",
            " |              RETURNS (tuple): A `(default, method, getter, setter)` tuple of the\n",
            " |                  removed extension.\n",
            " |      \n",
            " |              DOCS: https://spacy.io/api/token#remove_extension\n",
            " |  \n",
            " |  set_extension(...) from builtins.type\n",
            " |      Token.set_extension(type cls, name, **kwargs)\n",
            " |      Define a custom attribute which becomes available as `Token._`.\n",
            " |      \n",
            " |              name (str): Name of the attribute to set.\n",
            " |              default: Optional default value of the attribute.\n",
            " |              getter (callable): Optional getter function.\n",
            " |              setter (callable): Optional setter function.\n",
            " |              method (callable): Optional method for method extension.\n",
            " |              force (bool): Force overwriting existing attribute.\n",
            " |      \n",
            " |              DOCS: https://spacy.io/api/token#set_extension\n",
            " |              USAGE: https://spacy.io/usage/processing-pipelines#custom-components-attributes\n",
            " |  \n",
            " |  ----------------------------------------------------------------------\n",
            " |  Static methods defined here:\n",
            " |  \n",
            " |  __new__(*args, **kwargs) from builtins.type\n",
            " |      Create and return a new object.  See help(type) for accurate signature.\n",
            " |  \n",
            " |  ----------------------------------------------------------------------\n",
            " |  Data descriptors defined here:\n",
            " |  \n",
            " |  ancestors\n",
            " |      A sequence of this token's syntactic ancestors.\n",
            " |      \n",
            " |      YIELDS (Token): A sequence of ancestor tokens such that\n",
            " |          `ancestor.is_ancestor(self)`.\n",
            " |      \n",
            " |      DOCS: https://spacy.io/api/token#ancestors\n",
            " |  \n",
            " |  children\n",
            " |      A sequence of the token's immediate syntactic children.\n",
            " |      \n",
            " |      YIELDS (Token): A child token such that `child.head==self`.\n",
            " |      \n",
            " |      DOCS: https://spacy.io/api/token#children\n",
            " |  \n",
            " |  cluster\n",
            " |      RETURNS (int): Brown cluster ID.\n",
            " |  \n",
            " |  conjuncts\n",
            " |      A sequence of coordinated tokens, including the token itself.\n",
            " |      \n",
            " |      RETURNS (tuple): The coordinated tokens.\n",
            " |      \n",
            " |      DOCS: https://spacy.io/api/token#conjuncts\n",
            " |  \n",
            " |  dep\n",
            " |      RETURNS (uint64): ID of syntactic dependency label.\n",
            " |  \n",
            " |  dep_\n",
            " |      RETURNS (str): The syntactic dependency label.\n",
            " |  \n",
            " |  doc\n",
            " |  \n",
            " |  ent_id\n",
            " |      RETURNS (uint64): ID of the entity the token is an instance of,\n",
            " |      if any.\n",
            " |  \n",
            " |  ent_id_\n",
            " |      RETURNS (str): ID of the entity the token is an instance of,\n",
            " |      if any.\n",
            " |  \n",
            " |  ent_iob\n",
            " |      IOB code of named entity tag. `1=\"I\", 2=\"O\", 3=\"B\"`. 0 means no tag\n",
            " |      is assigned.\n",
            " |      \n",
            " |      RETURNS (uint64): IOB code of named entity tag.\n",
            " |  \n",
            " |  ent_iob_\n",
            " |      IOB code of named entity tag. \"B\" means the token begins an entity,\n",
            " |      \"I\" means it is inside an entity, \"O\" means it is outside an entity,\n",
            " |      and \"\" means no entity tag is set. \"B\" with an empty ent_type\n",
            " |      means that the token is blocked from further processing by NER.\n",
            " |      \n",
            " |      RETURNS (str): IOB code of named entity tag.\n",
            " |  \n",
            " |  ent_kb_id\n",
            " |      RETURNS (uint64): Named entity KB ID.\n",
            " |  \n",
            " |  ent_kb_id_\n",
            " |      RETURNS (str): Named entity KB ID.\n",
            " |  \n",
            " |  ent_type\n",
            " |      RETURNS (uint64): Named entity type.\n",
            " |  \n",
            " |  ent_type_\n",
            " |      RETURNS (str): Named entity type.\n",
            " |  \n",
            " |  has_vector\n",
            " |      A boolean value indicating whether a word vector is associated with\n",
            " |      the object.\n",
            " |      \n",
            " |      RETURNS (bool): Whether a word vector is associated with the object.\n",
            " |      \n",
            " |      DOCS: https://spacy.io/api/token#has_vector\n",
            " |  \n",
            " |  head\n",
            " |      The syntactic parent, or \"governor\", of this token.\n",
            " |      If token.has_head() is `False`, this method will return itself.\n",
            " |      \n",
            " |      RETURNS (Token): The token predicted by the parser to be the head of\n",
            " |          the current token.\n",
            " |  \n",
            " |  i\n",
            " |  \n",
            " |  idx\n",
            " |      RETURNS (int): The character offset of the token within the parent\n",
            " |      document.\n",
            " |  \n",
            " |  is_alpha\n",
            " |      RETURNS (bool): Whether the token consists of alpha characters.\n",
            " |      Equivalent to `token.text.isalpha()`.\n",
            " |  \n",
            " |  is_ascii\n",
            " |      RETURNS (bool): Whether the token consists of ASCII characters.\n",
            " |      Equivalent to `[any(ord(c) >= 128 for c in token.text)]`.\n",
            " |  \n",
            " |  is_bracket\n",
            " |      RETURNS (bool): Whether the token is a bracket.\n",
            " |  \n",
            " |  is_currency\n",
            " |      RETURNS (bool): Whether the token is a currency symbol.\n",
            " |  \n",
            " |  is_digit\n",
            " |      RETURNS (bool): Whether the token consists of digits. Equivalent to\n",
            " |      `token.text.isdigit()`.\n",
            " |  \n",
            " |  is_left_punct\n",
            " |      RETURNS (bool): Whether the token is a left punctuation mark.\n",
            " |  \n",
            " |  is_lower\n",
            " |      RETURNS (bool): Whether the token is in lowercase. Equivalent to\n",
            " |      `token.text.islower()`.\n",
            " |  \n",
            " |  is_oov\n",
            " |      RETURNS (bool): Whether the token is out-of-vocabulary.\n",
            " |  \n",
            " |  is_punct\n",
            " |      RETURNS (bool): Whether the token is punctuation.\n",
            " |  \n",
            " |  is_quote\n",
            " |      RETURNS (bool): Whether the token is a quotation mark.\n",
            " |  \n",
            " |  is_right_punct\n",
            " |      RETURNS (bool): Whether the token is a right punctuation mark.\n",
            " |  \n",
            " |  is_sent_end\n",
            " |      A boolean value indicating whether the token ends a sentence.\n",
            " |      `None` if unknown. Defaults to `True` for the last token in the `Doc`.\n",
            " |      \n",
            " |      RETURNS (bool / None): Whether the token ends a sentence.\n",
            " |          None if unknown.\n",
            " |      \n",
            " |      DOCS: https://spacy.io/api/token#is_sent_end\n",
            " |  \n",
            " |  is_sent_start\n",
            " |      A boolean value indicating whether the token starts a sentence.\n",
            " |      `None` if unknown. Defaults to `True` for the first token in the `Doc`.\n",
            " |      \n",
            " |      RETURNS (bool / None): Whether the token starts a sentence.\n",
            " |          None if unknown.\n",
            " |  \n",
            " |  is_space\n",
            " |      RETURNS (bool): Whether the token consists of whitespace characters.\n",
            " |      Equivalent to `token.text.isspace()`.\n",
            " |  \n",
            " |  is_stop\n",
            " |      RETURNS (bool): Whether the token is a stop word, i.e. part of a\n",
            " |      \"stop list\" defined by the language data.\n",
            " |  \n",
            " |  is_title\n",
            " |      RETURNS (bool): Whether the token is in titlecase. Equivalent to\n",
            " |      `token.text.istitle()`.\n",
            " |  \n",
            " |  is_upper\n",
            " |      RETURNS (bool): Whether the token is in uppercase. Equivalent to\n",
            " |      `token.text.isupper()`\n",
            " |  \n",
            " |  lang\n",
            " |      RETURNS (uint64): ID of the language of the parent document's\n",
            " |      vocabulary.\n",
            " |  \n",
            " |  lang_\n",
            " |      RETURNS (str): Language of the parent document's vocabulary,\n",
            " |      e.g. 'en'.\n",
            " |  \n",
            " |  left_edge\n",
            " |      The leftmost token of this token's syntactic descendents.\n",
            " |      \n",
            " |      RETURNS (Token): The first token such that `self.is_ancestor(token)`.\n",
            " |  \n",
            " |  lefts\n",
            " |      The leftward immediate children of the word, in the syntactic\n",
            " |      dependency parse.\n",
            " |      \n",
            " |      YIELDS (Token): A left-child of the token.\n",
            " |      \n",
            " |      DOCS: https://spacy.io/api/token#lefts\n",
            " |  \n",
            " |  lemma\n",
            " |      RETURNS (uint64): ID of the base form of the word, with no\n",
            " |      inflectional suffixes.\n",
            " |  \n",
            " |  lemma_\n",
            " |      RETURNS (str): The token lemma, i.e. the base form of the word,\n",
            " |      with no inflectional suffixes.\n",
            " |  \n",
            " |  lex\n",
            " |      RETURNS (Lexeme): The underlying lexeme.\n",
            " |  \n",
            " |  lex_id\n",
            " |      RETURNS (int): Sequential ID of the token's lexical type.\n",
            " |  \n",
            " |  like_email\n",
            " |      RETURNS (bool): Whether the token resembles an email address.\n",
            " |  \n",
            " |  like_num\n",
            " |      RETURNS (bool): Whether the token resembles a number, e.g. \"10.9\",\n",
            " |      \"10\", \"ten\", etc.\n",
            " |  \n",
            " |  like_url\n",
            " |      RETURNS (bool): Whether the token resembles a URL.\n",
            " |  \n",
            " |  lower\n",
            " |      RETURNS (uint64): ID of the lowercase token text.\n",
            " |  \n",
            " |  lower_\n",
            " |      RETURNS (str): The lowercase token text. Equivalent to\n",
            " |      `Token.text.lower()`.\n",
            " |  \n",
            " |  morph\n",
            " |  \n",
            " |  n_lefts\n",
            " |      The number of leftward immediate children of the word, in the\n",
            " |      syntactic dependency parse.\n",
            " |      \n",
            " |      RETURNS (int): The number of leftward immediate children of the\n",
            " |          word, in the syntactic dependency parse.\n",
            " |      \n",
            " |      DOCS: https://spacy.io/api/token#n_lefts\n",
            " |  \n",
            " |  n_rights\n",
            " |      The number of rightward immediate children of the word, in the\n",
            " |      syntactic dependency parse.\n",
            " |      \n",
            " |      RETURNS (int): The number of rightward immediate children of the\n",
            " |          word, in the syntactic dependency parse.\n",
            " |      \n",
            " |      DOCS: https://spacy.io/api/token#n_rights\n",
            " |  \n",
            " |  norm\n",
            " |      RETURNS (uint64): ID of the token's norm, i.e. a normalised form of\n",
            " |      the token text. Usually set in the language's tokenizer exceptions\n",
            " |      or norm exceptions.\n",
            " |  \n",
            " |  norm_\n",
            " |      RETURNS (str): The token's norm, i.e. a normalised form of the\n",
            " |      token text. Usually set in the language's tokenizer exceptions or\n",
            " |      norm exceptions.\n",
            " |  \n",
            " |  orth\n",
            " |      RETURNS (uint64): ID of the verbatim text content.\n",
            " |  \n",
            " |  orth_\n",
            " |      RETURNS (str): Verbatim text content (identical to\n",
            " |      `Token.text`). Exists mostly for consistency with the other\n",
            " |      attributes.\n",
            " |  \n",
            " |  pos\n",
            " |      RETURNS (uint64): ID of coarse-grained part-of-speech tag.\n",
            " |  \n",
            " |  pos_\n",
            " |      RETURNS (str): Coarse-grained part-of-speech tag.\n",
            " |  \n",
            " |  prefix\n",
            " |      RETURNS (uint64): ID of a length-N substring from the start of the\n",
            " |      token. Defaults to `N=1`.\n",
            " |  \n",
            " |  prefix_\n",
            " |      RETURNS (str): A length-N substring from the start of the token.\n",
            " |      Defaults to `N=1`.\n",
            " |  \n",
            " |  prob\n",
            " |      RETURNS (float): Smoothed log probability estimate of token type.\n",
            " |  \n",
            " |  rank\n",
            " |      RETURNS (int): Sequential ID of the token's lexical type, used to\n",
            " |      index into tables, e.g. for word vectors.\n",
            " |  \n",
            " |  right_edge\n",
            " |      The rightmost token of this token's syntactic descendents.\n",
            " |      \n",
            " |      RETURNS (Token): The last token such that `self.is_ancestor(token)`.\n",
            " |  \n",
            " |  rights\n",
            " |      The rightward immediate children of the word, in the syntactic\n",
            " |      dependency parse.\n",
            " |      \n",
            " |      YIELDS (Token): A right-child of the token.\n",
            " |      \n",
            " |      DOCS: https://spacy.io/api/token#rights\n",
            " |  \n",
            " |  sent\n",
            " |      RETURNS (Span): The sentence span that the token is a part of.\n",
            " |  \n",
            " |  sent_start\n",
            " |  \n",
            " |  sentiment\n",
            " |      RETURNS (float): A scalar value indicating the positivity or\n",
            " |      negativity of the token.\n",
            " |  \n",
            " |  shape\n",
            " |      RETURNS (uint64): ID of the token's shape, a transform of the\n",
            " |      token's string, to show orthographic features (e.g. \"Xxxx\", \"dd\").\n",
            " |  \n",
            " |  shape_\n",
            " |      RETURNS (str): Transform of the token's string, to show\n",
            " |      orthographic features. For example, \"Xxxx\" or \"dd\".\n",
            " |  \n",
            " |  subtree\n",
            " |      A sequence containing the token and all the token's syntactic\n",
            " |      descendants.\n",
            " |      \n",
            " |      YIELDS (Token): A descendent token such that\n",
            " |          `self.is_ancestor(descendent) or token == self`.\n",
            " |      \n",
            " |      DOCS: https://spacy.io/api/token#subtree\n",
            " |  \n",
            " |  suffix\n",
            " |      RETURNS (uint64): ID of a length-N substring from the end of the\n",
            " |      token. Defaults to `N=3`.\n",
            " |  \n",
            " |  suffix_\n",
            " |      RETURNS (str): A length-N substring from the end of the token.\n",
            " |      Defaults to `N=3`.\n",
            " |  \n",
            " |  tag\n",
            " |      RETURNS (uint64): ID of fine-grained part-of-speech tag.\n",
            " |  \n",
            " |  tag_\n",
            " |      RETURNS (str): Fine-grained part-of-speech tag.\n",
            " |  \n",
            " |  tensor\n",
            " |  \n",
            " |  text\n",
            " |      RETURNS (str): The original verbatim text of the token.\n",
            " |  \n",
            " |  text_with_ws\n",
            " |      RETURNS (str): The text content of the span (with trailing\n",
            " |      whitespace).\n",
            " |  \n",
            " |  vector\n",
            " |      A real-valued meaning representation.\n",
            " |      \n",
            " |      RETURNS (numpy.ndarray[ndim=1, dtype='float32']): A 1D numpy array\n",
            " |          representing the token's semantics.\n",
            " |      \n",
            " |      DOCS: https://spacy.io/api/token#vector\n",
            " |  \n",
            " |  vector_norm\n",
            " |      The L2 norm of the token's vector representation.\n",
            " |      \n",
            " |      RETURNS (float): The L2 norm of the vector representation.\n",
            " |      \n",
            " |      DOCS: https://spacy.io/api/token#vector_norm\n",
            " |  \n",
            " |  vocab\n",
            " |  \n",
            " |  whitespace_\n",
            " |      RETURNS (str): The trailing whitespace character, if present.\n",
            " |  \n",
            " |  ----------------------------------------------------------------------\n",
            " |  Data and other attributes defined here:\n",
            " |  \n",
            " |  __pyx_vtable__ = <capsule object NULL>\n",
            "\n"
          ]
        }
      ]
    },
    {
      "cell_type": "code",
      "source": [
        "doc = nlp(\"It costs $5.\")\n",
        "print(\"Index:   \", [token.i for token in doc])\n",
        "print(\"Text:    \", [token.text for token in doc])\n",
        "\n",
        "print(\"is_alpha:\", [token.is_alpha for token in doc])\n",
        "print(\"is_punct:\", [token.is_punct for token in doc])\n",
        "print(\"like_num:\", [token.like_num for token in doc])"
      ],
      "metadata": {
        "colab": {
          "base_uri": "https://localhost:8080/"
        },
        "id": "_3bjagmH1dFA",
        "outputId": "34105b88-92c5-463f-bf44-403781142acd"
      },
      "execution_count": 6,
      "outputs": [
        {
          "output_type": "stream",
          "name": "stdout",
          "text": [
            "Index:    [0, 1, 2, 3, 4]\n",
            "Text:     ['It', 'costs', '$', '5', '.']\n",
            "is_alpha: [True, True, False, False, False]\n",
            "is_punct: [False, False, False, False, True]\n",
            "like_num: [False, False, False, True, False]\n"
          ]
        }
      ]
    },
    {
      "cell_type": "code",
      "source": [],
      "metadata": {
        "id": "yfqZvAmN16P-"
      },
      "execution_count": null,
      "outputs": []
    },
    {
      "cell_type": "markdown",
      "source": [
        "# **Practice**"
      ],
      "metadata": {
        "id": "QAy_mtMS15Fx"
      }
    },
    {
      "cell_type": "code",
      "source": [
        "# Import spaCy\n",
        "import spacy\n",
        "\n",
        "# Create the English nlp object\n",
        "nlp = spacy.blank(\"en\")\n",
        "\n",
        "# Process a text\n",
        "doc = nlp(\"This is a sentence.\")\n",
        "\n",
        "# Print the document text\n",
        "print(doc.text)"
      ],
      "metadata": {
        "colab": {
          "base_uri": "https://localhost:8080/"
        },
        "id": "DbQzfufY11tp",
        "outputId": "7f4a5004-cad9-48c9-d417-0990feeb1948"
      },
      "execution_count": 7,
      "outputs": [
        {
          "output_type": "stream",
          "name": "stdout",
          "text": [
            "This is a sentence.\n"
          ]
        }
      ]
    },
    {
      "cell_type": "code",
      "source": [
        "# Import spaCy and create the English nlp object\n",
        "import spacy\n",
        "\n",
        "nlp = spacy.blank(\"en\")\n",
        "\n",
        "# Process the text\n",
        "doc = nlp(\"I like tree kangaroos and narwhals.\")\n",
        "\n",
        "# Select the first token\n",
        "first_token = doc[0]\n",
        "\n",
        "# Print the first token's text\n",
        "print(first_token.text)"
      ],
      "metadata": {
        "colab": {
          "base_uri": "https://localhost:8080/"
        },
        "id": "mu1ofwDX2JB0",
        "outputId": "eaff51ac-b440-417f-b073-7c76e7c14093"
      },
      "execution_count": null,
      "outputs": [
        {
          "output_type": "stream",
          "name": "stdout",
          "text": [
            "I\n"
          ]
        }
      ]
    },
    {
      "cell_type": "code",
      "source": [
        "# Import spaCy and create the English nlp object\n",
        "import spacy\n",
        "\n",
        "nlp = spacy.blank(\"en\")\n",
        "\n",
        "# Process the text\n",
        "doc = nlp(\"I like tree kangaroos and narwhals.\")\n",
        "\n",
        "# A slice of the Doc for \"tree kangaroos\"\n",
        "tree_kangaroos = doc[2:4]\n",
        "print(tree_kangaroos.text)\n",
        "\n",
        "# A slice of the Doc for \"tree kangaroos and narwhals\" (without the \".\")\n",
        "tree_kangaroos_and_narwhals = doc[2:6]\n",
        "print(tree_kangaroos_and_narwhals.text)"
      ],
      "metadata": {
        "colab": {
          "base_uri": "https://localhost:8080/"
        },
        "id": "SzPZXN_y6DGW",
        "outputId": "0e8d7c67-f51d-448e-bf89-da4d2a79a6a4"
      },
      "execution_count": null,
      "outputs": [
        {
          "output_type": "stream",
          "name": "stdout",
          "text": [
            "tree kangaroos\n",
            "tree kangaroos and narwhals\n"
          ]
        }
      ]
    },
    {
      "cell_type": "code",
      "source": [
        "import spacy\n",
        "\n",
        "nlp = spacy.blank(\"en\")\n",
        "\n",
        "# Process the text\n",
        "doc = nlp(\n",
        "    \"In 1990, more than 60% of people in East Asia were in extreme poverty. \"\n",
        "    \"Now less than 4% are.\"\n",
        ")\n",
        "\n",
        "# Iterate over the tokens in the doc\n",
        "for token in doc:\n",
        "    # Check if the token resembles a number\n",
        "    if token.like_num:\n",
        "        # Get the next token in the document\n",
        "        next_token = doc[token.i + 1]\n",
        "        # Check if the next token's text equals \"%\"\n",
        "        if next_token.text == \"%\":\n",
        "            print(\"Percentage found:\", token.text)"
      ],
      "metadata": {
        "colab": {
          "base_uri": "https://localhost:8080/"
        },
        "id": "v7ZXBxEz6im7",
        "outputId": "5496f97a-fc3d-423c-f9e6-d8b19833764c"
      },
      "execution_count": null,
      "outputs": [
        {
          "output_type": "stream",
          "name": "stdout",
          "text": [
            "Percentage found: 60\n",
            "Percentage found: 4\n"
          ]
        }
      ]
    },
    {
      "cell_type": "code",
      "source": [],
      "metadata": {
        "id": "5j_QSoE3BVC1"
      },
      "execution_count": null,
      "outputs": []
    },
    {
      "cell_type": "markdown",
      "source": [
        "# **Trained pipelines**\n",
        "\n",
        "Some of the most interesting things you can analyze are context-specific: for example, whether a word is a verb or whether a span of text is a person name.\n",
        "\n",
        "Trained pipeline components have `statistical models` that enable spaCy to make predictions in context. This usually includes part-of speech tags, syntactic dependencies and named entities.\n",
        "\n",
        "Pipelines are trained on large datasets of labeled example texts.\n",
        "\n",
        "They can be updated with more examples to fine-tune their predictions – for example, to perform better on your specific data.\n",
        "\n",
        "## What are trained pipelines?\n",
        "- Models that enable spaCy to `predict linguistic attributes in context`\n",
        "  - Part-of-speech tags\n",
        "  - Syntactic dependencies\n",
        "  - Named entities\n",
        "- Trained on labeled example texts\n",
        "- Can be updated with more examples to fine-tune predictions\n",
        "\n",
        "\n"
      ],
      "metadata": {
        "id": "lbcc3N9Y6xnO"
      }
    },
    {
      "cell_type": "markdown",
      "source": [
        "## **Pipeline Packages**\n",
        "\n",
        "spaCy provides a number of trained pipeline packages you can download using the `spacy download` command. For example, the `\"en_core_web_sm\"` package is a small English pipeline that supports all core capabilities and is trained on web text.\n",
        "\n",
        "The spacy.load method loads a pipeline package by name and returns an nlp object.\n",
        "\n",
        "The package provides the binary weights that enable spaCy to make predictions.\n",
        "\n",
        "It also includes the vocabulary, meta information about the pipeline and the configuration file used to train it. It tells spaCy which language class to use and how to configure the processing pipeline.\n",
        "\n",
        "```\n",
        "!pip install spacy download en_core_web_sm\n",
        "```\n",
        "\n",
        "- Binary weights\n",
        "- Vocabulary\n",
        "- Meta information\n",
        "- Configuration file"
      ],
      "metadata": {
        "id": "8iHVZYiE78pe"
      }
    },
    {
      "cell_type": "code",
      "source": [
        "!pip install spacy download en_core_web_sm"
      ],
      "metadata": {
        "colab": {
          "base_uri": "https://localhost:8080/"
        },
        "id": "LRda0-ZG8aiO",
        "outputId": "4c3c61ff-8867-429a-c9de-fa2c8b2feaa2"
      },
      "execution_count": 8,
      "outputs": [
        {
          "output_type": "stream",
          "name": "stdout",
          "text": [
            "Requirement already satisfied: spacy in /usr/local/lib/python3.10/dist-packages (3.6.1)\n",
            "Collecting download\n",
            "  Downloading download-0.3.5-py3-none-any.whl (8.8 kB)\n",
            "Requirement already satisfied: en_core_web_sm in /usr/local/lib/python3.10/dist-packages (3.6.0)\n",
            "Requirement already satisfied: spacy-legacy<3.1.0,>=3.0.11 in /usr/local/lib/python3.10/dist-packages (from spacy) (3.0.12)\n",
            "Requirement already satisfied: spacy-loggers<2.0.0,>=1.0.0 in /usr/local/lib/python3.10/dist-packages (from spacy) (1.0.5)\n",
            "Requirement already satisfied: murmurhash<1.1.0,>=0.28.0 in /usr/local/lib/python3.10/dist-packages (from spacy) (1.0.10)\n",
            "Requirement already satisfied: cymem<2.1.0,>=2.0.2 in /usr/local/lib/python3.10/dist-packages (from spacy) (2.0.8)\n",
            "Requirement already satisfied: preshed<3.1.0,>=3.0.2 in /usr/local/lib/python3.10/dist-packages (from spacy) (3.0.9)\n",
            "Requirement already satisfied: thinc<8.2.0,>=8.1.8 in /usr/local/lib/python3.10/dist-packages (from spacy) (8.1.12)\n",
            "Requirement already satisfied: wasabi<1.2.0,>=0.9.1 in /usr/local/lib/python3.10/dist-packages (from spacy) (1.1.2)\n",
            "Requirement already satisfied: srsly<3.0.0,>=2.4.3 in /usr/local/lib/python3.10/dist-packages (from spacy) (2.4.8)\n",
            "Requirement already satisfied: catalogue<2.1.0,>=2.0.6 in /usr/local/lib/python3.10/dist-packages (from spacy) (2.0.10)\n",
            "Requirement already satisfied: typer<0.10.0,>=0.3.0 in /usr/local/lib/python3.10/dist-packages (from spacy) (0.9.0)\n",
            "Requirement already satisfied: pathy>=0.10.0 in /usr/local/lib/python3.10/dist-packages (from spacy) (0.10.3)\n",
            "Requirement already satisfied: smart-open<7.0.0,>=5.2.1 in /usr/local/lib/python3.10/dist-packages (from spacy) (6.4.0)\n",
            "Requirement already satisfied: tqdm<5.0.0,>=4.38.0 in /usr/local/lib/python3.10/dist-packages (from spacy) (4.66.1)\n",
            "Requirement already satisfied: numpy>=1.15.0 in /usr/local/lib/python3.10/dist-packages (from spacy) (1.23.5)\n",
            "Requirement already satisfied: requests<3.0.0,>=2.13.0 in /usr/local/lib/python3.10/dist-packages (from spacy) (2.31.0)\n",
            "Requirement already satisfied: pydantic!=1.8,!=1.8.1,<3.0.0,>=1.7.4 in /usr/local/lib/python3.10/dist-packages (from spacy) (1.10.13)\n",
            "Requirement already satisfied: jinja2 in /usr/local/lib/python3.10/dist-packages (from spacy) (3.1.2)\n",
            "Requirement already satisfied: setuptools in /usr/local/lib/python3.10/dist-packages (from spacy) (67.7.2)\n",
            "Requirement already satisfied: packaging>=20.0 in /usr/local/lib/python3.10/dist-packages (from spacy) (23.2)\n",
            "Requirement already satisfied: langcodes<4.0.0,>=3.2.0 in /usr/local/lib/python3.10/dist-packages (from spacy) (3.3.0)\n",
            "Requirement already satisfied: six in /usr/local/lib/python3.10/dist-packages (from download) (1.16.0)\n",
            "Requirement already satisfied: typing-extensions>=4.2.0 in /usr/local/lib/python3.10/dist-packages (from pydantic!=1.8,!=1.8.1,<3.0.0,>=1.7.4->spacy) (4.5.0)\n",
            "Requirement already satisfied: charset-normalizer<4,>=2 in /usr/local/lib/python3.10/dist-packages (from requests<3.0.0,>=2.13.0->spacy) (3.3.1)\n",
            "Requirement already satisfied: idna<4,>=2.5 in /usr/local/lib/python3.10/dist-packages (from requests<3.0.0,>=2.13.0->spacy) (3.4)\n",
            "Requirement already satisfied: urllib3<3,>=1.21.1 in /usr/local/lib/python3.10/dist-packages (from requests<3.0.0,>=2.13.0->spacy) (2.0.7)\n",
            "Requirement already satisfied: certifi>=2017.4.17 in /usr/local/lib/python3.10/dist-packages (from requests<3.0.0,>=2.13.0->spacy) (2023.7.22)\n",
            "Requirement already satisfied: blis<0.8.0,>=0.7.8 in /usr/local/lib/python3.10/dist-packages (from thinc<8.2.0,>=8.1.8->spacy) (0.7.11)\n",
            "Requirement already satisfied: confection<1.0.0,>=0.0.1 in /usr/local/lib/python3.10/dist-packages (from thinc<8.2.0,>=8.1.8->spacy) (0.1.3)\n",
            "Requirement already satisfied: click<9.0.0,>=7.1.1 in /usr/local/lib/python3.10/dist-packages (from typer<0.10.0,>=0.3.0->spacy) (8.1.7)\n",
            "Requirement already satisfied: MarkupSafe>=2.0 in /usr/local/lib/python3.10/dist-packages (from jinja2->spacy) (2.1.3)\n",
            "Installing collected packages: download\n",
            "Successfully installed download-0.3.5\n"
          ]
        }
      ]
    },
    {
      "cell_type": "code",
      "source": [
        "import spacy\n",
        "\n",
        "nlp = spacy.load(\"en_core_web_sm\")"
      ],
      "metadata": {
        "id": "FMXAqNln8Xdg"
      },
      "execution_count": 9,
      "outputs": []
    },
    {
      "cell_type": "markdown",
      "source": [
        "## **Predicting Part-of-speech Tags**\n",
        "\n",
        "Let's take a look at the model's predictions. In this example, we're using spaCy to predict part-of-speech tags, the word types in context.\n",
        "\n",
        "First, we load the small English pipeline and receive an `nlp` object.\n",
        "\n",
        "Next, we're processing the text \"She ate the pizza\".\n",
        "\n",
        "For each token in the doc, we can print the text and the .`pos_` attribute, the predicted part-of-speech tag.\n",
        "\n",
        "In spaCy, attributes that return strings usually end with an underscore – attributes without the underscore return an integer ID value.\n",
        "\n",
        "Here, the model correctly predicted \"ate\" as a verb and \"pizza\" as a noun."
      ],
      "metadata": {
        "id": "9lARKjgA9VEi"
      }
    },
    {
      "cell_type": "code",
      "source": [
        "import spacy\n",
        "\n",
        "# Load the small English pipeline\n",
        "nlp = spacy.load(\"en_core_web_sm\")\n",
        "\n",
        "# Process a text\n",
        "doc = nlp(\"She ate the pizza\")\n",
        "\n",
        "# Iterate over the tokens\n",
        "for token in doc:\n",
        "    # Print the text and the predicted part-of-speech tag\n",
        "    print(token.text, token.pos_)"
      ],
      "metadata": {
        "colab": {
          "base_uri": "https://localhost:8080/"
        },
        "id": "0AOc5tMF8wca",
        "outputId": "b7f03bc4-c82f-4a2f-9f99-f2f2ad344d52"
      },
      "execution_count": null,
      "outputs": [
        {
          "output_type": "stream",
          "name": "stdout",
          "text": [
            "She PRON\n",
            "ate VERB\n",
            "the DET\n",
            "pizza NOUN\n"
          ]
        }
      ]
    },
    {
      "cell_type": "markdown",
      "source": [
        "## **Predicting Syntactic Dependencies**\n",
        "\n",
        "In addition to the part-of-speech tags, we can also predict how the words are related. For example, whether a word is the subject of the sentence or an object.\n",
        "\n",
        "The `.dep_` attribute returns the predicted dependency label.\n",
        "\n",
        "The `.head` attribute returns the syntactic head token. You can also think of it as the parent token this word is attached to."
      ],
      "metadata": {
        "id": "lWIdYRMw9uqF"
      }
    },
    {
      "cell_type": "code",
      "source": [
        "# help(token.dep_)"
      ],
      "metadata": {
        "id": "Ip4QOrkKdkMj"
      },
      "execution_count": 12,
      "outputs": []
    },
    {
      "cell_type": "code",
      "source": [
        "for token in doc:\n",
        "    print(token.text, token.pos_, token.dep_, token.head.text)"
      ],
      "metadata": {
        "colab": {
          "base_uri": "https://localhost:8080/"
        },
        "id": "f9tjGfGy82PI",
        "outputId": "dbfeb632-469d-4637-dfd2-309d97350659"
      },
      "execution_count": null,
      "outputs": [
        {
          "output_type": "stream",
          "name": "stdout",
          "text": [
            "She PRON nsubj ate\n",
            "ate VERB ROOT ate\n",
            "the DET det pizza\n",
            "pizza NOUN dobj ate\n"
          ]
        }
      ]
    },
    {
      "cell_type": "markdown",
      "source": [
        "## **Predicting Named Entities**\n",
        "\n",
        "Named entities are \"real world objects\" that are assigned a name – for example, a person, an organization or a country.\n",
        "\n",
        "The doc.ents property lets you access the named entities predicted by the named entity recognition model.\n",
        "\n",
        "It returns an iterator of Span objects, so we can print the entity text and the entity label using the .label_ attribute.\n",
        "\n",
        "In this case, the model is correctly predicting \"Apple\" as an organization, \"U.K.\" as a geopolitical entity and \"$1 billion\" as money."
      ],
      "metadata": {
        "id": "qKyKjtoLIVuR"
      }
    },
    {
      "cell_type": "code",
      "source": [
        "# Process a text\n",
        "doc = nlp(\"Apple is looking at buying U.K. startup for $1 billion\")\n",
        "\n",
        "# Iterate over the predicted entities\n",
        "for ent in doc.ents:\n",
        "    # Print the entity text and its label\n",
        "    print(ent.text, ent.label_)"
      ],
      "metadata": {
        "colab": {
          "base_uri": "https://localhost:8080/"
        },
        "id": "BaT5P_oT9yi0",
        "outputId": "80d14fdd-491b-409e-df83-69f26338a6dd"
      },
      "execution_count": 13,
      "outputs": [
        {
          "output_type": "stream",
          "name": "stdout",
          "text": [
            "Apple ORG\n",
            "U.K. GPE\n",
            "$1 billion MONEY\n"
          ]
        }
      ]
    },
    {
      "cell_type": "markdown",
      "source": [
        "## **Tip: the spacy.explain method**\n",
        "\n",
        "A quick tip: To get definitions for the most common tags and labels, you can use the `spacy.explain` helper function.\n",
        "\n",
        "For example, \"GPE\" for geopolitical entity isn't exactly intuitive – but spacy.explain can tell you that it refers to countries, cities and states.\n",
        "\n",
        "The same works for part-of-speech tags and dependency labels."
      ],
      "metadata": {
        "id": "E4q0PsVqImS5"
      }
    },
    {
      "cell_type": "code",
      "source": [
        "# Get quick definitions of the most common tags and labels.\n",
        "\n",
        "spacy.explain(\"GPE\")\n",
        "spacy.explain(\"NNP\")\n",
        "spacy.explain(\"dobj\")"
      ],
      "metadata": {
        "id": "VD_kt8gWIrC8",
        "colab": {
          "base_uri": "https://localhost:8080/",
          "height": 35
        },
        "outputId": "395b47ed-cec7-4269-9137-0a46815e5ad9"
      },
      "execution_count": null,
      "outputs": [
        {
          "output_type": "execute_result",
          "data": {
            "text/plain": [
              "'direct object'"
            ],
            "application/vnd.google.colaboratory.intrinsic+json": {
              "type": "string"
            }
          },
          "metadata": {},
          "execution_count": 18
        }
      ]
    },
    {
      "cell_type": "code",
      "source": [
        "import spacy\n",
        "\n",
        "# Load the \"en_core_web_sm\" pipeline\n",
        "nlp = spacy.load(\"en_core_web_sm\")\n",
        "\n",
        "text = \"It’s official: Apple is the first U.S. public company to reach a $1 trillion market value\"\n",
        "\n",
        "# Process the text\n",
        "doc = nlp(text)\n",
        "\n",
        "# Print the document text\n",
        "print(doc.text)\n",
        "\n"
      ],
      "metadata": {
        "colab": {
          "base_uri": "https://localhost:8080/"
        },
        "id": "CrkDWxXvB-QX",
        "outputId": "60f337ea-2bd6-40ee-e5bb-d470bf1719ae"
      },
      "execution_count": null,
      "outputs": [
        {
          "output_type": "stream",
          "name": "stdout",
          "text": [
            "It’s official: Apple is the first U.S. public company to reach a $1 trillion market value\n"
          ]
        }
      ]
    },
    {
      "cell_type": "code",
      "source": [
        "import spacy\n",
        "\n",
        "nlp = spacy.load(\"en_core_web_sm\")\n",
        "\n",
        "text = \"It’s official: Apple is the first U.S. public company to reach a $1 trillion market value\"\n",
        "\n",
        "# Process the text\n",
        "doc = nlp(text)\n",
        "\n",
        "for token in doc:\n",
        "    # Get the token text, part-of-speech tag and dependency label\n",
        "    token_text = token.text\n",
        "    token_pos = token.pos_\n",
        "    token_dep = token.dep_\n",
        "    # This is for formatting only\n",
        "    print(f\"{token_text:<12}{token_pos:<10}{token_dep:<10}\")"
      ],
      "metadata": {
        "id": "cuHy4iP8C2qy"
      },
      "execution_count": null,
      "outputs": []
    },
    {
      "cell_type": "code",
      "source": [
        "import spacy\n",
        "\n",
        "nlp = spacy.load(\"en_core_web_sm\")\n",
        "\n",
        "text = \"It’s official: Apple is the first U.S. public company to reach a $1 trillion market value\"\n",
        "\n",
        "# Process the text\n",
        "doc = nlp(text)\n",
        "\n",
        "# Iterate over the predicted entities\n",
        "for ent in doc.ents:\n",
        "    # Print the entity text and its label\n",
        "    print(ent.text, ent.label_)"
      ],
      "metadata": {
        "id": "B7J0bH3oDbHt"
      },
      "execution_count": null,
      "outputs": []
    }
  ]
}